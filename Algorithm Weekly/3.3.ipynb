1.两数之和
给定一个整数数组 nums 和一个目标值 target，请你在该数组中找出和为目标值的那 两个 整数，并返回他们的数组下标。

class Solution:
    def twoSum(self,nums,target):
        n=len(nums)
        for x in range(n):
            for y in range(x+1,n):
                if nums[y]  ==  target - nums[x]:
                    return x,y
                    break
                else:
                    continue
            
